{
 "cells": [
  {
   "cell_type": "code",
   "execution_count": 1,
   "id": "c0569ab9-372d-4d52-b12b-de55078a2a97",
   "metadata": {},
   "outputs": [
    {
     "name": "stdout",
     "output_type": "stream",
     "text": [
      "0                     Young Esposito <Young@iworld.de>\n",
      "1                         Mok <ipline's1983@icable.ph>\n",
      "2    Daily Top 10 <Karmandeep-opengevl@universalnet...\n",
      "3                   Michael Parker <ivqrnai@pobox.com>\n",
      "4    Gretchen Suggs <externalsep1@loanofficertool.com>\n",
      "Name: sender, dtype: object\n"
     ]
    }
   ],
   "source": [
    "import pandas as pd\n",
    "\n",
    "# Load your dataset (replace with your file path if not already loaded)\n",
    "df = pd.read_csv(\"CEAS_08.csv\")\n",
    "\n",
    "# Display the first few rows of the 'sender' column\n",
    "print(df['sender'].head())\n"
   ]
  },
  {
   "cell_type": "code",
   "execution_count": 3,
   "id": "296cf999-f28b-4f52-bb6a-01b8a3fbeb4f",
   "metadata": {},
   "outputs": [],
   "source": [
    "df['sender_email'] = df['sender'].str.extract(r'<(.*?)>')\n"
   ]
  },
  {
   "cell_type": "code",
   "execution_count": 5,
   "id": "b7d06a38-3e14-4d1e-94f2-b28253545e17",
   "metadata": {},
   "outputs": [],
   "source": [
    "df['sender_domain'] = df['sender_email'].str.split('@').str[1]\n"
   ]
  },
  {
   "cell_type": "code",
   "execution_count": 9,
   "id": "878945ae-889e-4e30-a299-5e6347530c7b",
   "metadata": {},
   "outputs": [
    {
     "name": "stdout",
     "output_type": "stream",
     "text": [
      "\n",
      "📨 Domain: caswellmassey.com\n",
      "🔎 Prediction: Phishing 🚨\n",
      "📊 Confidence Score: 0.9191\n",
      "📌 Influential keywords: com (score=0.2414)\n",
      "\n",
      "📨 Domain: dsi.unimi.it\n",
      "🔎 Prediction: Legitimate ✅\n",
      "📊 Confidence Score: 1.0\n",
      "📌 Influential keywords: it (score=0.0042), dsi (score=0.0004), unimi (score=0.0003)\n",
      "\n",
      "📨 Domain: factset.com\n",
      "🔎 Prediction: Phishing 🚨\n",
      "📊 Confidence Score: 0.9191\n",
      "📌 Influential keywords: com (score=0.2414)\n"
     ]
    }
   ],
   "source": [
    "import pandas as pd\n",
    "import numpy as np\n",
    "import re\n",
    "from sklearn.feature_extraction.text import TfidfVectorizer\n",
    "from sklearn.ensemble import RandomForestClassifier\n",
    "\n",
    "# Step 1: Extract sender email and domain\n",
    "df['sender_email'] = df['sender'].str.extract(r'<(.*?)>')\n",
    "df['sender_domain'] = df['sender_email'].str.split('@').str[1]\n",
    "df = df.dropna(subset=['sender_domain'])\n",
    "\n",
    "# Step 2: Vectorize the sender domains\n",
    "vectorizer = TfidfVectorizer(max_features=1000)\n",
    "X = vectorizer.fit_transform(df['sender_domain'])\n",
    "y = df['label']\n",
    "\n",
    "# Step 3: Train a simple model\n",
    "model = RandomForestClassifier(random_state=42)\n",
    "model.fit(X, y)\n",
    "\n",
    "# Step 4: Explanation function\n",
    "def explain_domain(domain):\n",
    "    domain_vec = vectorizer.transform([domain])\n",
    "    prediction = model.predict(domain_vec)[0]\n",
    "    proba = model.predict_proba(domain_vec)[0][prediction]\n",
    "\n",
    "    feature_names = vectorizer.get_feature_names_out()\n",
    "    importance_scores = model.feature_importances_\n",
    "\n",
    "    domain_parts = domain.split('.')\n",
    "    keywords = []\n",
    "    for part in domain_parts:\n",
    "        if part in feature_names:\n",
    "            idx = list(feature_names).index(part)\n",
    "            score = importance_scores[idx]\n",
    "            keywords.append((part, round(score, 4)))\n",
    "\n",
    "    keywords = sorted(keywords, key=lambda x: -x[1])[:5]\n",
    "\n",
    "    print(\"\\n📨 Domain:\", domain)\n",
    "    print(\"🔎 Prediction:\", \"Phishing 🚨\" if prediction == 1 else \"Legitimate ✅\")\n",
    "    print(\"📊 Confidence Score:\", round(proba, 4))\n",
    "    print(\"📌 Influential keywords:\", \", \".join([f\"{w[0]} (score={w[1]})\" for w in keywords]) if keywords else \"No clear indicators\")\n",
    "\n",
    "# 🔍 Test on a few domains from your df\n",
    "for domain in df['sender_domain'].sample(3, random_state=1):\n",
    "    explain_domain(domain)\n"
   ]
  },
  {
   "cell_type": "code",
   "execution_count": 11,
   "id": "0f9362d3-aa12-4ac0-855e-9d1d7c78ecc7",
   "metadata": {},
   "outputs": [
    {
     "name": "stdout",
     "output_type": "stream",
     "text": [
      "\n",
      "📨 Domain: dsi.unimi.it\n",
      "🔎 Prediction: Legitimate ✅\n",
      "📊 Confidence Score: 1.0\n",
      "📌 Influential keywords: it (score=0.0042), dsi (score=0.0004), unimi (score=0.0003)\n"
     ]
    }
   ],
   "source": [
    "explain_domain(\"dsi.unimi.it\")\n"
   ]
  },
  {
   "cell_type": "code",
   "execution_count": null,
   "id": "b138103a-f33d-4ee3-994f-a34d8b645123",
   "metadata": {},
   "outputs": [],
   "source": []
  }
 ],
 "metadata": {
  "kernelspec": {
   "display_name": "Python 3 (Anaconda)",
   "language": "python",
   "name": "python3"
  },
  "language_info": {
   "codemirror_mode": {
    "name": "ipython",
    "version": 3
   },
   "file_extension": ".py",
   "mimetype": "text/x-python",
   "name": "python",
   "nbconvert_exporter": "python",
   "pygments_lexer": "ipython3",
   "version": "3.11.7"
  }
 },
 "nbformat": 4,
 "nbformat_minor": 5
}
